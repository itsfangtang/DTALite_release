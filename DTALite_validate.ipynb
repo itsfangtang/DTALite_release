{
 "nbformat": 4,
 "nbformat_minor": 0,
 "metadata": {
  "colab": {
   "provenance": [],
   "include_colab_link": true
  },
  "kernelspec": {
   "name": "python3",
   "display_name": "Python 3"
  }
 },
 "cells": [
  {
   "cell_type": "markdown",
   "metadata": {
    "id": "view-in-github",
    "colab_type": "text"
   },
   "source": [
    "<a href=\"https://colab.research.google.com/github/itsfangtang/DTALite_release/blob/main/DTALite_validate.ipynb\" target=\"_parent\"><img src=\"https://colab.research.google.com/assets/colab-badge.svg\" alt=\"Open In Colab\"/></a>"
   ]
  },
  {
   "cell_type": "markdown",
   "source": [
    "# DTALite Validator\n",
    "\n",
    "The DTALite validator is a [Jupyter notebook](https://jupyter.org/) hosted in Google Colaboratory. It is an interactive Python environment that validates Dynamic Traffic Assignment (DTA) implementation using the [DTALite](https://pypi.org/project/DTALite/) package.  The validator has been tested with the [four-node network](https://github.com/itsfangtang/DTALite_release/tree/main/data_sets/01_4_node_network) example file."
   ],
   "metadata": {
    "id": "9tgfsrZccEzt"
   }
  },
  {
   "cell_type": "markdown",
   "metadata": {
    "id": "_ghEaf-d2Fdm"
   },
   "source": [
    "## Step 1: Upload Files\n",
    "\n",
    "The first option is to clone example files from the repository of datasets. The other option is to select local files for upload via the Table of Contents + Files + Upload. While testing, you may need to reset the UI control, which you can do via Runtime + Restart runtime. The Files control can be accessed by clicking the File button."
   ]
  },
  {
   "cell_type": "code",
   "source": [
    "!git clone https://github.com/itsfangtang/DTALite_release\n",
    "\n",
    "%cd DTALite_release/data_sets/01_4_node_network"
   ],
   "metadata": {
    "colab": {
     "base_uri": "https://localhost:8080/"
    },
    "id": "4BMQ3wWB3dsF",
    "outputId": "705db4d3-4dc3-4d9e-8894-65c7a886bf07"
   },
   "execution_count": null,
   "outputs": [
    {
     "output_type": "stream",
     "name": "stdout",
     "text": [
      "Cloning into 'DTALite_release'...\n",
      "remote: Enumerating objects: 350, done.\u001B[K\n",
      "remote: Counting objects: 100% (128/128), done.\u001B[K\n",
      "remote: Compressing objects: 100% (92/92), done.\u001B[K\n",
      "remote: Total 350 (delta 37), reused 110 (delta 26), pack-reused 222 (from 1)\u001B[K\n",
      "Receiving objects: 100% (350/350), 56.04 MiB | 4.40 MiB/s, done.\n",
      "Resolving deltas: 100% (93/93), done.\n",
      "/content/DTALite_release/data_sets/01_4_node_network\n"
     ]
    }
   ]
  },
  {
   "cell_type": "markdown",
   "source": [
    "Go to the local folder in cloud computing environment."
   ],
   "metadata": {
    "id": "qCPriuDI5EtX"
   }
  },
  {
   "cell_type": "code",
   "source": [
    "!pwd"
   ],
   "metadata": {
    "colab": {
     "base_uri": "https://localhost:8080/"
    },
    "id": "u_jzbFlr4jRn",
    "outputId": "3e00b9f1-f55c-4fdc-cce4-ce8268f7689d"
   },
   "execution_count": null,
   "outputs": [
    {
     "output_type": "stream",
     "name": "stdout",
     "text": [
      "/content/DTALite_release/data_sets/01_4_node_network\n"
     ]
    }
   ]
  },
  {
   "cell_type": "markdown",
   "source": [
    "Check the file icon on the left hand side, makesure node.csv, link.csv, and demand.csv exist."
   ],
   "metadata": {
    "id": "YGkNLdub4raH"
   }
  },
  {
   "cell_type": "markdown",
   "metadata": {
    "id": "j6y7B8WX-d46"
   },
   "source": [
    "##Step 2: install python packages"
   ]
  },
  {
   "cell_type": "code",
   "metadata": {
    "colab": {
     "base_uri": "https://localhost:8080/"
    },
    "id": "Mysg2UEz0cu5",
    "outputId": "2c7e17ae-f91c-43f0-8b51-bd9caf6f3344"
   },
   "source": [
    "!pip install DTALite"
   ],
   "execution_count": null,
   "outputs": [
    {
     "output_type": "stream",
     "name": "stdout",
     "text": [
      "Collecting DTALite\n",
      "  Downloading DTALite-0.0.1-py3-none-any.whl.metadata (3.5 kB)\n",
      "Downloading DTALite-0.0.1-py3-none-any.whl (67 kB)\n",
      "\u001B[2K   \u001B[90m━━━━━━━━━━━━━━━━━━━━━━━━━━━━━━━━━━━━━━━━\u001B[0m \u001B[32m67.2/67.2 kB\u001B[0m \u001B[31m1.6 MB/s\u001B[0m eta \u001B[36m0:00:00\u001B[0m\n",
      "\u001B[?25hInstalling collected packages: DTALite\n",
      "Successfully installed DTALite-0.0.1\n"
     ]
    }
   ]
  },
  {
   "cell_type": "markdown",
   "metadata": {
    "id": "qrchDA-R0WN0"
   },
   "source": [
    "##Step 3: Run DTALite"
   ]
  },
  {
   "cell_type": "code",
   "metadata": {
    "id": "3UL0MUnaHAD5",
    "colab": {
     "base_uri": "https://localhost:8080/",
     "height": 356
    },
    "outputId": "bdab1383-f12a-41b6-b5fa-155c2ab189a1"
   },
   "source": [
    "import DTALite as dta\n",
    "\n",
    "dta.assignment()\n",
    "\n",
    "dta.simulation()"
   ],
   "execution_count": null,
   "outputs": [
    {
     "output_type": "error",
     "ename": "OSError",
     "evalue": "/usr/local/lib/python3.11/dist-packages/DTALite/bin/DTALite.so: cannot open shared object file: No such file or directory",
     "traceback": [
      "\u001B[0;31m---------------------------------------------------------------------------\u001B[0m",
      "\u001B[0;31mOSError\u001B[0m                                   Traceback (most recent call last)",
      "\u001B[0;32m<ipython-input-4-a9984fcfaf98>\u001B[0m in \u001B[0;36m<cell line: 0>\u001B[0;34m()\u001B[0m\n\u001B[0;32m----> 1\u001B[0;31m \u001B[0;32mimport\u001B[0m \u001B[0mDTALite\u001B[0m \u001B[0;32mas\u001B[0m \u001B[0mdta\u001B[0m\u001B[0;34m\u001B[0m\u001B[0;34m\u001B[0m\u001B[0m\n\u001B[0m\u001B[1;32m      2\u001B[0m \u001B[0;34m\u001B[0m\u001B[0m\n\u001B[1;32m      3\u001B[0m \u001B[0mdta\u001B[0m\u001B[0;34m.\u001B[0m\u001B[0mdtalite\u001B[0m\u001B[0;34m(\u001B[0m\u001B[0;34m)\u001B[0m\u001B[0;34m\u001B[0m\u001B[0;34m\u001B[0m\u001B[0m\n",
      "\u001B[0;32m/usr/local/lib/python3.11/dist-packages/DTALite/__init__.py\u001B[0m in \u001B[0;36m<module>\u001B[0;34m\u001B[0m\n\u001B[0;32m----> 1\u001B[0;31m \u001B[0;32mfrom\u001B[0m \u001B[0;34m.\u001B[0m\u001B[0mpath\u001B[0m \u001B[0;32mimport\u001B[0m \u001B[0;34m*\u001B[0m\u001B[0;34m\u001B[0m\u001B[0;34m\u001B[0m\u001B[0m\n\u001B[0m\u001B[1;32m      2\u001B[0m \u001B[0;34m\u001B[0m\u001B[0m\n\u001B[1;32m      3\u001B[0m \u001B[0;34m\u001B[0m\u001B[0m\n\u001B[1;32m      4\u001B[0m \u001B[0m__version__\u001B[0m \u001B[0;34m=\u001B[0m \u001B[0;34m'0.0.1'\u001B[0m\u001B[0;34m\u001B[0m\u001B[0;34m\u001B[0m\u001B[0m\n\u001B[1;32m      5\u001B[0m \u001B[0;34m\u001B[0m\u001B[0m\n",
      "\u001B[0;32m/usr/local/lib/python3.11/dist-packages/DTALite/path.py\u001B[0m in \u001B[0;36m<module>\u001B[0;34m\u001B[0m\n\u001B[1;32m     36\u001B[0m                     using source files in engine_cpp!')\n\u001B[1;32m     37\u001B[0m \u001B[0;34m\u001B[0m\u001B[0m\n\u001B[0;32m---> 38\u001B[0;31m \u001B[0m_cdll\u001B[0m \u001B[0;34m=\u001B[0m \u001B[0mctypes\u001B[0m\u001B[0;34m.\u001B[0m\u001B[0mcdll\u001B[0m\u001B[0;34m.\u001B[0m\u001B[0mLoadLibrary\u001B[0m\u001B[0;34m(\u001B[0m\u001B[0m_dll_file\u001B[0m\u001B[0;34m)\u001B[0m\u001B[0;34m\u001B[0m\u001B[0;34m\u001B[0m\u001B[0m\n\u001B[0m\u001B[1;32m     39\u001B[0m \u001B[0;34m\u001B[0m\u001B[0m\n\u001B[1;32m     40\u001B[0m \u001B[0;32mdef\u001B[0m \u001B[0mdtalite\u001B[0m\u001B[0;34m(\u001B[0m\u001B[0;34m)\u001B[0m\u001B[0;34m:\u001B[0m\u001B[0;34m\u001B[0m\u001B[0;34m\u001B[0m\u001B[0m\n",
      "\u001B[0;32m/usr/lib/python3.11/ctypes/__init__.py\u001B[0m in \u001B[0;36mLoadLibrary\u001B[0;34m(self, name)\u001B[0m\n\u001B[1;32m    452\u001B[0m \u001B[0;34m\u001B[0m\u001B[0m\n\u001B[1;32m    453\u001B[0m     \u001B[0;32mdef\u001B[0m \u001B[0mLoadLibrary\u001B[0m\u001B[0;34m(\u001B[0m\u001B[0mself\u001B[0m\u001B[0;34m,\u001B[0m \u001B[0mname\u001B[0m\u001B[0;34m)\u001B[0m\u001B[0;34m:\u001B[0m\u001B[0;34m\u001B[0m\u001B[0;34m\u001B[0m\u001B[0m\n\u001B[0;32m--> 454\u001B[0;31m         \u001B[0;32mreturn\u001B[0m \u001B[0mself\u001B[0m\u001B[0;34m.\u001B[0m\u001B[0m_dlltype\u001B[0m\u001B[0;34m(\u001B[0m\u001B[0mname\u001B[0m\u001B[0;34m)\u001B[0m\u001B[0;34m\u001B[0m\u001B[0;34m\u001B[0m\u001B[0m\n\u001B[0m\u001B[1;32m    455\u001B[0m \u001B[0;34m\u001B[0m\u001B[0m\n\u001B[1;32m    456\u001B[0m     \u001B[0m__class_getitem__\u001B[0m \u001B[0;34m=\u001B[0m \u001B[0mclassmethod\u001B[0m\u001B[0;34m(\u001B[0m\u001B[0m_types\u001B[0m\u001B[0;34m.\u001B[0m\u001B[0mGenericAlias\u001B[0m\u001B[0;34m)\u001B[0m\u001B[0;34m\u001B[0m\u001B[0;34m\u001B[0m\u001B[0m\n",
      "\u001B[0;32m/usr/lib/python3.11/ctypes/__init__.py\u001B[0m in \u001B[0;36m__init__\u001B[0;34m(self, name, mode, handle, use_errno, use_last_error, winmode)\u001B[0m\n\u001B[1;32m    374\u001B[0m \u001B[0;34m\u001B[0m\u001B[0m\n\u001B[1;32m    375\u001B[0m         \u001B[0;32mif\u001B[0m \u001B[0mhandle\u001B[0m \u001B[0;32mis\u001B[0m \u001B[0;32mNone\u001B[0m\u001B[0;34m:\u001B[0m\u001B[0;34m\u001B[0m\u001B[0;34m\u001B[0m\u001B[0m\n\u001B[0;32m--> 376\u001B[0;31m             \u001B[0mself\u001B[0m\u001B[0;34m.\u001B[0m\u001B[0m_handle\u001B[0m \u001B[0;34m=\u001B[0m \u001B[0m_dlopen\u001B[0m\u001B[0;34m(\u001B[0m\u001B[0mself\u001B[0m\u001B[0;34m.\u001B[0m\u001B[0m_name\u001B[0m\u001B[0;34m,\u001B[0m \u001B[0mmode\u001B[0m\u001B[0;34m)\u001B[0m\u001B[0;34m\u001B[0m\u001B[0;34m\u001B[0m\u001B[0m\n\u001B[0m\u001B[1;32m    377\u001B[0m         \u001B[0;32melse\u001B[0m\u001B[0;34m:\u001B[0m\u001B[0;34m\u001B[0m\u001B[0;34m\u001B[0m\u001B[0m\n\u001B[1;32m    378\u001B[0m             \u001B[0mself\u001B[0m\u001B[0;34m.\u001B[0m\u001B[0m_handle\u001B[0m \u001B[0;34m=\u001B[0m \u001B[0mhandle\u001B[0m\u001B[0;34m\u001B[0m\u001B[0;34m\u001B[0m\u001B[0m\n",
      "\u001B[0;31mOSError\u001B[0m: /usr/local/lib/python3.11/dist-packages/DTALite/bin/DTALite.so: cannot open shared object file: No such file or directory"
     ]
    }
   ]
  },
  {
   "cell_type": "markdown",
   "metadata": {
    "id": "gfLuLzVs4SJS"
   },
   "source": [
    "##Step 4: Download data files\n",
    "\n"
   ]
  },
  {
   "cell_type": "code",
   "metadata": {
    "colab": {
     "base_uri": "https://localhost:8080/"
    },
    "id": "gRYOkJyT4juC",
    "outputId": "58ba23dc-8804-43b3-bb5c-868415999a90"
   },
   "source": [
    "%cd ../\n",
    "!zip -r /content/DTALite_release/data_sets/01_4_node_network/output.zip /content/DTALite_release/data_sets/01_4_node_network/"
   ],
   "execution_count": null,
   "outputs": [
    {
     "output_type": "stream",
     "name": "stdout",
     "text": [
      "/\n",
      "updating: content/ (stored 0%)\n",
      "updating: content/.config/ (stored 0%)\n",
      "updating: content/.config/logs/ (stored 0%)\n",
      "updating: content/.config/logs/2023.04.03/ (stored 0%)\n",
      "updating: content/.config/logs/2023.04.03/13.37.23.191256.log (deflated 58%)\n",
      "updating: content/.config/logs/2023.04.03/13.37.48.634189.log (deflated 57%)\n",
      "updating: content/.config/logs/2023.04.03/13.37.15.271578.log (deflated 86%)\n",
      "updating: content/.config/logs/2023.04.03/13.36.25.571251.log (deflated 91%)\n",
      "updating: content/.config/logs/2023.04.03/13.37.49.455341.log (deflated 56%)\n",
      "updating: content/.config/logs/2023.04.03/13.36.50.818877.log (deflated 58%)\n",
      "updating: content/.config/.last_opt_in_prompt.yaml (stored 0%)\n",
      "updating: content/.config/.last_survey_prompt.yaml (stored 0%)\n",
      "updating: content/.config/active_config (stored 0%)\n",
      "updating: content/.config/config_sentinel (stored 0%)\n",
      "updating: content/.config/configurations/ (stored 0%)\n",
      "updating: content/.config/configurations/config_default (deflated 15%)\n",
      "updating: content/.config/.last_update_check.json (deflated 22%)\n",
      "updating: content/.config/gce (stored 0%)\n",
      "updating: content/consolidated/ (stored 0%)\n",
      "updating: content/consolidated/link.csv (deflated 83%)\n",
      "updating: content/consolidated/node.csv (deflated 75%)\n",
      "updating: content/consolidated/poi.csv (deflated 71%)\n",
      "updating: content/network.jpg (deflated 10%)\n",
      "updating: content/input_agent.csv (deflated 86%)\n",
      "updating: content/.ipynb_checkpoints/ (stored 0%)\n",
      "updating: content/link.csv (deflated 83%)\n",
      "updating: content/node.csv (deflated 77%)\n",
      "updating: content/log.txt (deflated 97%)\n",
      "updating: content/demand.csv (deflated 81%)\n",
      "updating: content/accessibility.csv (deflated 81%)\n",
      "updating: content/poi_trip_rate.csv (deflated 67%)\n",
      "updating: content/zone.csv (deflated 75%)\n",
      "updating: content/map.osm (deflated 89%)\n",
      "updating: content/poi.csv (deflated 70%)\n",
      "updating: content/sample_data/ (stored 0%)\n",
      "updating: content/sample_data/anscombe.json (deflated 83%)\n",
      "updating: content/sample_data/README.md (deflated 42%)\n",
      "updating: content/sample_data/mnist_test.csv (deflated 88%)\n",
      "updating: content/sample_data/california_housing_test.csv (deflated 76%)\n",
      "updating: content/sample_data/california_housing_train.csv (deflated 79%)\n",
      "updating: content/sample_data/mnist_train_small.csv (deflated 88%)\n",
      "/content\n"
     ]
    }
   ]
  },
  {
   "cell_type": "code",
   "metadata": {
    "colab": {
     "base_uri": "https://localhost:8080/",
     "height": 17
    },
    "id": "mDf0i_KS7dIH",
    "outputId": "87cc1d85-6df8-4b93-9c2c-2542044bc359"
   },
   "source": [
    "from google.colab import files\n",
    "files.download(\"/content/DTALite_release/data_sets/01_4_node_network/output.zip\")"
   ],
   "execution_count": null,
   "outputs": [
    {
     "output_type": "display_data",
     "data": {
      "text/plain": [
       "<IPython.core.display.Javascript object>"
      ],
      "application/javascript": [
       "\n",
       "    async function download(id, filename, size) {\n",
       "      if (!google.colab.kernel.accessAllowed) {\n",
       "        return;\n",
       "      }\n",
       "      const div = document.createElement('div');\n",
       "      const label = document.createElement('label');\n",
       "      label.textContent = `Downloading \"${filename}\": `;\n",
       "      div.appendChild(label);\n",
       "      const progress = document.createElement('progress');\n",
       "      progress.max = size;\n",
       "      div.appendChild(progress);\n",
       "      document.body.appendChild(div);\n",
       "\n",
       "      const buffers = [];\n",
       "      let downloaded = 0;\n",
       "\n",
       "      const channel = await google.colab.kernel.comms.open(id);\n",
       "      // Send a message to notify the kernel that we're ready.\n",
       "      channel.send({})\n",
       "\n",
       "      for await (const message of channel.messages) {\n",
       "        // Send a message to notify the kernel that we're ready.\n",
       "        channel.send({})\n",
       "        if (message.buffers) {\n",
       "          for (const buffer of message.buffers) {\n",
       "            buffers.push(buffer);\n",
       "            downloaded += buffer.byteLength;\n",
       "            progress.value = downloaded;\n",
       "          }\n",
       "        }\n",
       "      }\n",
       "      const blob = new Blob(buffers, {type: 'application/binary'});\n",
       "      const a = document.createElement('a');\n",
       "      a.href = window.URL.createObjectURL(blob);\n",
       "      a.download = filename;\n",
       "      div.appendChild(a);\n",
       "      a.click();\n",
       "      div.remove();\n",
       "    }\n",
       "  "
      ]
     },
     "metadata": {}
    },
    {
     "output_type": "display_data",
     "data": {
      "text/plain": [
       "<IPython.core.display.Javascript object>"
      ],
      "application/javascript": [
       "download(\"download_914c14cb-39ae-476a-b11f-768b7a95a6b6\", \"map.zip\", 12358566)"
      ]
     },
     "metadata": {}
    }
   ]
  }
 ]
}

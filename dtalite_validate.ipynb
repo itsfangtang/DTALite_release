{
  "nbformat": 4,
  "nbformat_minor": 0,
  "metadata": {
    "colab": {
      "provenance": [],
      "include_colab_link": true
    },
    "kernelspec": {
      "name": "python3",
      "display_name": "Python 3"
    }
  },
  "cells": [
    {
      "cell_type": "markdown",
      "metadata": {
        "id": "view-in-github",
        "colab_type": "text"
      },
      "source": [
        "<a href=\"https://colab.research.google.com/github/itsfangtang/DTALite_release/blob/main/dtalite_validate.ipynb\" target=\"_parent\"><img src=\"https://colab.research.google.com/assets/colab-badge.svg\" alt=\"Open In Colab\"/></a>"
      ]
    },
    {
      "cell_type": "markdown",
      "source": [
        "# DTALite Validator\n",
        "\n",
        "The DTALite validator is a [Jupyter notebook](https://jupyter.org/) hosted in Google Colaboratory. It is an interactive Python environment that validates Dynamic Traffic Assignment (DTA) implementation using the [DTALite](https://pypi.org/project/DTALite/) package.  The validator has been tested with the [four-node network](https://github.com/itsfangtang/DTALite_release/tree/main/data_sets/01_4_node_network) example file."
      ],
      "metadata": {
        "id": "9tgfsrZccEzt"
      }
    },
    {
      "cell_type": "markdown",
      "metadata": {
        "id": "_ghEaf-d2Fdm"
      },
      "source": [
        "## Step 1: Upload Files\n",
        "\n",
        "The first option is to clone example files from the repository of datasets. The other option is to select local files for upload via the Table of Contents + Files + Upload. While testing, you may need to reset the UI control, which you can do via Runtime + Restart runtime. The Files control can be accessed by clicking the File button."
      ]
    },
    {
      "cell_type": "code",
      "source": [
        "!git clone https://github.com/itsfangtang/DTALite_release\n",
        "\n",
        "%cd DTALite_release/data_sets/01_4_node_network"
      ],
      "metadata": {
        "colab": {
          "base_uri": "https://localhost:8080/"
        },
        "id": "4BMQ3wWB3dsF",
        "outputId": "b145b671-09d3-4aef-bd9a-96c7763382c6"
      },
      "execution_count": null,
      "outputs": [
        {
          "output_type": "stream",
          "name": "stdout",
          "text": [
            "Cloning into 'DTALite_release'...\n",
            "remote: Enumerating objects: 454, done.\u001b[K\n",
            "remote: Counting objects: 100% (232/232), done.\u001b[K\n",
            "remote: Compressing objects: 100% (165/165), done.\u001b[K\n",
            "remote: Total 454 (delta 82), reused 185 (delta 53), pack-reused 222 (from 1)\u001b[K\n",
            "Receiving objects: 100% (454/454), 59.05 MiB | 6.97 MiB/s, done.\n",
            "Resolving deltas: 100% (138/138), done.\n",
            "/content/DTALite_release/data_sets/01_4_node_network\n"
          ]
        }
      ]
    },
    {
      "cell_type": "markdown",
      "source": [
        "Go to the local folder in cloud computing environment."
      ],
      "metadata": {
        "id": "qCPriuDI5EtX"
      }
    },
    {
      "cell_type": "code",
      "source": [
        "!pwd"
      ],
      "metadata": {
        "colab": {
          "base_uri": "https://localhost:8080/"
        },
        "id": "u_jzbFlr4jRn",
        "outputId": "294c5f41-ba7f-4f7d-845d-b42470d9926f"
      },
      "execution_count": null,
      "outputs": [
        {
          "output_type": "stream",
          "name": "stdout",
          "text": [
            "/content/DTALite_release/data_sets/01_4_node_network\n"
          ]
        }
      ]
    },
    {
      "cell_type": "markdown",
      "source": [
        "Check the file icon on the left hand side, makesure node.csv, link.csv, and demand.csv exist."
      ],
      "metadata": {
        "id": "YGkNLdub4raH"
      }
    },
    {
      "cell_type": "markdown",
      "metadata": {
        "id": "j6y7B8WX-d46"
      },
      "source": [
        "##Step 2: install python packages"
      ]
    },
    {
      "cell_type": "code",
      "metadata": {
        "colab": {
          "base_uri": "https://localhost:8080/"
        },
        "id": "Mysg2UEz0cu5",
        "outputId": "d6cb896a-bd4d-4f17-944f-d29e3fb459a3"
      },
      "source": [
        "!pip install DTALite"
      ],
      "execution_count": null,
      "outputs": [
        {
          "output_type": "stream",
          "name": "stdout",
          "text": [
            "Collecting DTALite\n",
            "  Downloading DTALite-0.0.2-py3-none-any.whl.metadata (3.3 kB)\n",
            "Downloading DTALite-0.0.2-py3-none-any.whl (296 kB)\n",
            "\u001b[2K   \u001b[90m━━━━━━━━━━━━━━━━━━━━━━━━━━━━━━━━━━━━━━━━\u001b[0m \u001b[32m296.7/296.7 kB\u001b[0m \u001b[31m4.4 MB/s\u001b[0m eta \u001b[36m0:00:00\u001b[0m\n",
            "\u001b[?25hInstalling collected packages: DTALite\n",
            "Successfully installed DTALite-0.0.2\n"
          ]
        }
      ]
    },
    {
      "cell_type": "markdown",
      "metadata": {
        "id": "qrchDA-R0WN0"
      },
      "source": [
        "##Step 3: Run DTALite"
      ]
    },
    {
      "cell_type": "code",
      "metadata": {
        "id": "3UL0MUnaHAD5",
        "colab": {
          "base_uri": "https://localhost:8080/"
        },
        "outputId": "e17b42db-f3f9-4c60-a488-cd38429748e7"
      },
      "source": [
        "import DTALite as dta\n",
        "\n",
        "dta.assignment()\n",
        "\n",
        "dta.simulation()"
      ],
      "execution_count": null,
      "outputs": [
        {
          "output_type": "stream",
          "name": "stdout",
          "text": [
            "DTALite, version 0.0.2\n",
            "\n"
          ]
        }
      ]
    },
    {
      "cell_type": "markdown",
      "metadata": {
        "id": "gfLuLzVs4SJS"
      },
      "source": [
        "##Step 4: Download data files\n",
        "\n"
      ]
    },
    {
      "cell_type": "code",
      "metadata": {
        "colab": {
          "base_uri": "https://localhost:8080/"
        },
        "id": "gRYOkJyT4juC",
        "outputId": "99c574d0-0d98-42e3-ba17-8cd4422121cc"
      },
      "source": [
        "%cd ../\n",
        "!zip -r /content/DTALite_release/data_sets/01_4_node_network/output.zip /content/DTALite_release/data_sets/01_4_node_network/"
      ],
      "execution_count": null,
      "outputs": [
        {
          "output_type": "stream",
          "name": "stdout",
          "text": [
            "/content/DTALite_release/data_sets\n",
            "  adding: content/DTALite_release/data_sets/01_4_node_network/ (stored 0%)\n",
            "  adding: content/DTALite_release/data_sets/01_4_node_network/link.csv (deflated 39%)\n",
            "  adding: content/DTALite_release/data_sets/01_4_node_network/sim_info.csv (deflated 3%)\n",
            "  adding: content/DTALite_release/data_sets/01_4_node_network/TAP_log.csv (stored 0%)\n",
            "  adding: content/DTALite_release/data_sets/01_4_node_network/link_performance.csv (deflated 74%)\n",
            "  adding: content/DTALite_release/data_sets/01_4_node_network/summary_log_file.txt (deflated 39%)\n",
            "  adding: content/DTALite_release/data_sets/01_4_node_network/sim_debug.csv (deflated 11%)\n",
            "  adding: content/DTALite_release/data_sets/01_4_node_network/demand.csv (deflated 20%)\n",
            "  adding: content/DTALite_release/data_sets/01_4_node_network/sim_error.log (stored 0%)\n",
            "  adding: content/DTALite_release/data_sets/01_4_node_network/sample_mode_type.csv (deflated 30%)\n",
            "  adding: content/DTALite_release/data_sets/01_4_node_network/node.csv (deflated 19%)\n",
            "  adding: content/DTALite_release/data_sets/01_4_node_network/trajectory.csv (deflated 40%)\n",
            "  adding: content/DTALite_release/data_sets/01_4_node_network/simulation_debug.csv (deflated 15%)\n",
            "  adding: content/DTALite_release/data_sets/01_4_node_network/od_performance.csv (deflated 41%)\n",
            "  adding: content/DTALite_release/data_sets/01_4_node_network/sample_settings.csv (deflated 40%)\n"
          ]
        }
      ]
    },
    {
      "cell_type": "code",
      "metadata": {
        "colab": {
          "base_uri": "https://localhost:8080/",
          "height": 17
        },
        "id": "mDf0i_KS7dIH",
        "outputId": "25a538a7-5bab-4211-e627-78f9a0dc4e5b"
      },
      "source": [
        "from google.colab import files\n",
        "files.download(\"/content/DTALite_release/data_sets/01_4_node_network/output.zip\")"
      ],
      "execution_count": null,
      "outputs": [
        {
          "output_type": "display_data",
          "data": {
            "text/plain": [
              "<IPython.core.display.Javascript object>"
            ],
            "application/javascript": [
              "\n",
              "    async function download(id, filename, size) {\n",
              "      if (!google.colab.kernel.accessAllowed) {\n",
              "        return;\n",
              "      }\n",
              "      const div = document.createElement('div');\n",
              "      const label = document.createElement('label');\n",
              "      label.textContent = `Downloading \"${filename}\": `;\n",
              "      div.appendChild(label);\n",
              "      const progress = document.createElement('progress');\n",
              "      progress.max = size;\n",
              "      div.appendChild(progress);\n",
              "      document.body.appendChild(div);\n",
              "\n",
              "      const buffers = [];\n",
              "      let downloaded = 0;\n",
              "\n",
              "      const channel = await google.colab.kernel.comms.open(id);\n",
              "      // Send a message to notify the kernel that we're ready.\n",
              "      channel.send({})\n",
              "\n",
              "      for await (const message of channel.messages) {\n",
              "        // Send a message to notify the kernel that we're ready.\n",
              "        channel.send({})\n",
              "        if (message.buffers) {\n",
              "          for (const buffer of message.buffers) {\n",
              "            buffers.push(buffer);\n",
              "            downloaded += buffer.byteLength;\n",
              "            progress.value = downloaded;\n",
              "          }\n",
              "        }\n",
              "      }\n",
              "      const blob = new Blob(buffers, {type: 'application/binary'});\n",
              "      const a = document.createElement('a');\n",
              "      a.href = window.URL.createObjectURL(blob);\n",
              "      a.download = filename;\n",
              "      div.appendChild(a);\n",
              "      a.click();\n",
              "      div.remove();\n",
              "    }\n",
              "  "
            ]
          },
          "metadata": {}
        },
        {
          "output_type": "display_data",
          "data": {
            "text/plain": [
              "<IPython.core.display.Javascript object>"
            ],
            "application/javascript": [
              "download(\"download_1ca99889-aadc-4766-8745-b6bfa5c9ff63\", \"output.zip\", 5701)"
            ]
          },
          "metadata": {}
        }
      ]
    }
  ]
}